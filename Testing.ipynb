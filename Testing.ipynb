{
 "cells": [
  {
   "cell_type": "code",
   "execution_count": 49,
   "metadata": {},
   "outputs": [],
   "source": [
    "# What things can you do on your turn in Hanabi?\n",
    "# 1. Play a card from your hand. -- Choose to play, choose a card.\n",
    "# 2. Discard a card from your hand. -- Choose to discard, choose a card.\n",
    "# 3. Give a hint to the other player about cards in their hand. -- Choose to give hint, choose a hint.\n",
    "\n",
    "# What information do you have at any point in the Hanabi Game?\n",
    "# 1. Hints given for each of your cards.\n",
    "# 2. Number of remaining hints.\n",
    "# 3. Number of cards left in the deck.\n",
    "# 4. Number of lives left.\n",
    "# 5. Hints given to other players already.\n",
    "# 6. Cards in play.\n",
    "# 7. Score.\n",
    "\n",
    "# Maybe we can describe the state by [[score], [lives remaining], [hints available], [# cards in deck],\n",
    "#                                     [Cards in play], [Hints in Hand], [Other People's Hands Hints]]"
   ]
  },
  {
   "cell_type": "code",
   "execution_count": 78,
   "metadata": {},
   "outputs": [],
   "source": [
    "# We will have a game manager script that takes in a list of players and sends them the game state when it is their turn.\n",
    "# We then instantiate a couple of players and have them play games trying to achieve the highest score."
   ]
  },
  {
   "cell_type": "code",
   "execution_count": 128,
   "metadata": {},
   "outputs": [],
   "source": [
    "import itertools\n",
    "import random\n",
    "\n",
    "class HanabiGame:\n",
    "    \n",
    "    def __init__(self, hand_size = 5, hints = 8, lives = 3, num_players = 2, num_suits = 5, num_values = 5):\n",
    "                    \n",
    "        # Hand Size\n",
    "        if hand_size < 1:\n",
    "            print(\"How are you going to play without any cards in your hand, silly?\")\n",
    "        self.hand_size = hand_size\n",
    "        \n",
    "        # Hints remaining\n",
    "        self.hints = hints\n",
    "        self.max_hints = self.hints\n",
    "        \n",
    "        # Lives remaining\n",
    "        self.lives = lives\n",
    "\n",
    "        # Number of players\n",
    "        if num_players < 2:\n",
    "            print(\"Hanabi must be played with at least two players.\")\n",
    "            \n",
    "        self.num_players = num_players\n",
    "        \n",
    "        # Suits of Cards\n",
    "        self.num_suits = num_suits\n",
    "        self.suits = list(range(self.num_suits))\n",
    "\n",
    "        # Values of Cards\n",
    "        # There are 3 zeros of each suit, one of the maximal value, and two of all others.\n",
    "        if num_values < 2:\n",
    "            print(\"Please allow for at least two values.\")\n",
    "        \n",
    "        self.num_values = num_values\n",
    "        self.values = [0, 0, 0] + list(range(1, self.num_values-1))*2 + [self.num_values-1]\n",
    "\n",
    "        # Deck\n",
    "        # A card in the deck's ten's place is the suit of the card and \n",
    "        # the one's place is the value\n",
    "        self.deck = [(suit,value) for suit, value in itertools.product(self.suits,self.values)]\n",
    "\n",
    "        # Cards in the Hands of each Player\n",
    "        self.player_hands = [[] for i in range(num_players)]\n",
    "        self.initialDeal()\n",
    "\n",
    "        # Hint information available to each player\n",
    "        # self.player_hints[0] = [Hints received for suits, Hints received for values, turns_in_hand]\n",
    "        # Hints received are either 0 (no info), 1 (positive info), or -1 (negative info)\n",
    "        # So, [[-1, 0, 0, 0, 0], [-1, 1, -1, -1, -1], 3] would correspond to knowing a card is\n",
    "        # NOT of suit 0 and IS of value 1 and has been in your hand for 3 turns.\n",
    "        self.player_hints = [[[[0]*self.num_suits,[0]*self.num_values, 0] for j in range(self.hand_size)]\n",
    "                             for i in range(self.num_players)]\n",
    "        \n",
    "        # Keep track of whose turn it is\n",
    "        self.current_player_turn = 0\n",
    "        \n",
    "        # Keep track of the score.\n",
    "        # Note*: Normally in Hanabi your score is zero until the last turn\n",
    "        # is played, but to help the AI, the current score will only become\n",
    "        # zero when all lives are lost.\n",
    "        self.current_score = 0\n",
    "        \n",
    "        # Cards that have been played onto the board\n",
    "        # -1 corresponds to no card of a particular suit having been played.\n",
    "        # The current value of self.board[i] = Highest value of card played\n",
    "        # of that suit.\n",
    "        self.board = [-1]*self.num_suits\n",
    "        \n",
    "        # Discard Pile\n",
    "        # self.discards[i][j] = The number of suit i value j cards that have been discarded so far.\n",
    "        self.discards = [[0]*num_values for i in range(self.num_suits)]\n",
    "        \n",
    "        # Keep a list of possible next moves\n",
    "        self.legal_move_list = []\n",
    "        # Initialize legal_move_list\n",
    "        self.legalMoves()\n",
    "        \n",
    "        # Keep track of the number of moves left when the final round starts\n",
    "        self.final_round_moves = self.num_players\n",
    "        self.game_is_ending = False\n",
    "        \n",
    "        # When the game ends, the game manager should deal with cleaning everything up.\n",
    "        self.game_end = False\n",
    "\n",
    "\n",
    "    def initialDeal(self):\n",
    "        random.shuffle(self.deck)\n",
    "        for i in range(self.hand_size):\n",
    "            for hand in range(self.num_players):\n",
    "                self.player_hands[hand].append(self.deck.pop())\n",
    "    \n",
    "    # Returns the board state from a given player's perspective.\n",
    "    # In particular, it returns all public information and the cards in the opponents hands.\n",
    "    # [[score]: 1, [lives remaining]: 1, [hints available]: 1, [# cards in deck]: 1,\n",
    "    # [Cards in play]: num_suits, [Discards]: num_suits*num_values, [Hints in Hand], [Other People's Hands Hints]]\n",
    "    def boardState(self, player_number):\n",
    "        return [self.current_score, self.lives, self.hints, len(self.deck), self.board, self.discards, \n",
    "                self.player_hints[player_number]] + [hint for i,hint in enumerate(self.player_hints) if i!= player_number]\n",
    "    \n",
    "    def printBoardState(self, player_number=-1):\n",
    "        \n",
    "        # If no player is specified, return the view from the current player\n",
    "        if player_number == -1:\n",
    "            player_number = self.current_player_turn\n",
    "#         cur_board = boardState(player_number)\n",
    "        print(f\"From the perspective of player {player_number}\")\n",
    "        print(f\"The current score is {self.current_score}.\")\n",
    "        print(f\"You have {self.lives} lives and {self.hints} hints left.\")\n",
    "        print(f\"There are {len(self.deck)} cards left in the deck.\")\n",
    "        for i, max_card in enumerate(self.board):\n",
    "            if max_card == -1:\n",
    "                print(f\"You have not played any cards of suit {i}\")\n",
    "            elif max_card == 0:\n",
    "                print(f\"You have played the 0 of suit {i}.\")\n",
    "            else:\n",
    "                print(f\"You have played {max_card} cards of suit {i}.\")\n",
    "        \n",
    "        for card_index, hint in enumerate(self.player_hints[player_number]):\n",
    "            if hint == [[0]*self.num_suits, [0]*self.num_values, 0]:\n",
    "                print(f\"You don't know anything about card {card_index}.\")\n",
    "            else:\n",
    "                if hint[0] == [0]*self.num_suits:\n",
    "                    print(f\"You don't know anything about the suit of card {card_index}.\")\n",
    "                else:\n",
    "                    if 1 in hint[0]:\n",
    "                        print(f\"You know that {card_index} is of suit {(hint[0]).index(1)}\")\n",
    "                    else:\n",
    "                        for suit_index, existence in enumerate(hint[0]):\n",
    "                            if existence == -1:\n",
    "                                print(f\"You know card {card_index} is not of suit {suit_index}.\")\n",
    "                \n",
    "                if hint[1] == [0]*self.num_values:\n",
    "                    print(f\"You don't know anything about the value of card {card_index}.\")\n",
    "                else:\n",
    "                    if 1 in hint[1]:\n",
    "                        print(f\"You know that {card_index} is of suit {(hint[0]).index(1)}\")\n",
    "                    else:\n",
    "                        for value_index, existence in enumerate(hint[1]):\n",
    "                            if existence == -1:\n",
    "                                print(f\"You know card {card_index} is not of value {value_index}.\")\n",
    "\n",
    "                            \n",
    "    # Returns a tuple (The index of the current player's turn, [List of allowable moves])    \n",
    "    def legalMoves(self):\n",
    "        \n",
    "        # Moves will be described by a tuple \n",
    "        # (Choose to Play/Discard/Hint, Index of Card to Discard/Play [-1 if giving hint instead], \n",
    "        #                              Hint Type[(player, suit, value)])\n",
    "        # Hint Type is (-1,-1,-1) if not giving a hint.\n",
    "        allowed_moves = []\n",
    "        \n",
    "        # Play moves (0,X,-1,-1)\n",
    "        for i in range(len(self.player_hands[self.current_player_turn])):\n",
    "            allowed_moves.append((0,i,-1,-1,-1))\n",
    "        \n",
    "        # Discard moves (1,X,-1,-1)\n",
    "        for i in range(len(self.player_hands[self.current_player_turn])):\n",
    "            allowed_moves.append((1,i,-1,-1,-1))\n",
    "        \n",
    "        \n",
    "        # If hint available, hint moves (2, -1, Player, Suit, Value)\n",
    "        if self.hints > 0:\n",
    "            for player_index in range(self.num_players):\n",
    "                if player_index != self.current_player_turn:\n",
    "                    for suit_index in range(self.num_suits):\n",
    "                        allowed_moves.append((2,-1,player_index,suit_index,-1))\n",
    "                    for value_index in range(self.num_values):\n",
    "                        allowed_moves.append((2,-1,player_index,-1,value_index))\n",
    "        \n",
    "        self.legal_move_list = allowed_moves\n",
    "        return (self.current_player_turn, allowed_moves)\n",
    "    \n",
    "    def printLegalMoves(self):\n",
    "        self.legalMoves()\n",
    "        print(f\"It is Player {self.current_player_turn}'s turn.\")\n",
    "        if len(self.legal_move_list) == 0:\n",
    "            print(\"You done goofed. No legal moves.\")\n",
    "            return\n",
    "        for index, move in enumerate(self.legal_move_list):\n",
    "            if move[0] == 0:\n",
    "                print(f\"{index}: You can play your {move[1]} card.\")\n",
    "            elif move[0] == 1:\n",
    "                print(f\"{index}: You can discard your {move[1]} card.\")\n",
    "            else:\n",
    "                if move[3] != -1:\n",
    "                    print(f\"{index}: You can tell player {move[2]} about their cards of suit {move[3]}.\")\n",
    "                elif move[4] != -1:\n",
    "                    print(f\"{index}: You can tell player {move[2]} about their cards of value {move[4]}.\")\n",
    "                else:\n",
    "                    print('We definitely should not have gotten here.')\n",
    "    \n",
    "    # Current Player Draws a card\n",
    "    def drawCard(self):\n",
    "        if len(self.deck) == 0:\n",
    "            self.game_is_ending = True\n",
    "            self.final_round_moves -= 1\n",
    "            if self.final_round_moves == 0:\n",
    "                self.endGame()\n",
    "\n",
    "        if len(self.player_hands[self.current_player_turn]) != 4:\n",
    "            print(f\"A player is trying to draw with {len(self.player_hands[self.current_player_turn])} cards in their hand.\")\n",
    "            return\n",
    "        else:\n",
    "            self.player_hands[self.current_player_turn].append(self.deck.pop())\n",
    "            self.player_hints[self.current_player_turn].append([[0]*self.num_suits,[0]*self.num_values, 0])\n",
    "        \n",
    "        self.legalMoves()\n",
    "    \n",
    "    # Implement this\n",
    "    def endGame(self):\n",
    "        self.game_end = True\n",
    "        return\n",
    "    \n",
    "    def playCard(self, index):\n",
    "        if index > len(self.player_hands[self.current_player_turn]):\n",
    "            print(\"That card is unplayable. Uh oh.\")\n",
    "            return\n",
    "        \n",
    "        card = self.player_hands[self.current_player_turn][index]\n",
    "        suit = card[0]\n",
    "        value = card[1]\n",
    "        \n",
    "        \n",
    "        # If the card is playable, play it, increment score, and draw a card.\n",
    "        # Otherwise, we'll lose a life, check game end, discard it, and draw a card.\n",
    "        if self.board[suit] + 1 == value:\n",
    "            self.board[suit] = value\n",
    "            self.current_score += 1\n",
    "        else:\n",
    "            self.lives -= 1\n",
    "            if self.lives <= 0:\n",
    "                endGame()\n",
    "                return\n",
    "        self.discardCard(index, gain_hint = False)\n",
    "        self.drawCard()\n",
    "\n",
    "    # Only draw a card if gain_hint = True\n",
    "    # Update discard pile\n",
    "    def discardCard(self, index, gain_hint = True):\n",
    "        self.discards[self.player_hands[self.current_player_turn][index][0]][\n",
    "                            self.player_hands[self.current_player_turn][index][1]]+= 1\n",
    "        del self.player_hands[self.current_player_turn][index]\n",
    "        del self.player_hints[self.current_player_turn][index]\n",
    "        if gain_hint == True:\n",
    "            self.drawCard()\n",
    "            if self.hints < self.max_hints:\n",
    "                self.hints += 1\n",
    "        return\n",
    "\n",
    "    # If a hint is given whilst game is ending, remember to decrement final_round_moves\n",
    "    # self.player_hints = [[[[0]*self.num_suits,[0]*self.num_values] for j in range(self.hand_size)]\n",
    "    #                        for i in range(self.num_players)]\n",
    "    def giveHint(self, hint):\n",
    "        player, suit_hint, value_hint = hint[0], hint[1], hint[2]\n",
    "        \n",
    "        if self.hints <= 0:\n",
    "            print(\"You cannot give a hint, as you have no hint tokens left!\")\n",
    "        \n",
    "        # card_hints is of the form [[suit hints], [value hints]]\n",
    "        for card_index, card_hints in enumerate(self.player_hints[player]):\n",
    "            card_suit = self.player_hands[player][card_index][0]\n",
    "            card_value = self.player_hands[player][card_index][1]\n",
    "            if (suit_hint != -1):\n",
    "                if suit_hint == card_suit:\n",
    "                    card_hints[0] = [1 if x == card_suit else -1 for x in range(self.num_suits) ]\n",
    "                else:\n",
    "                    card_hints[0][suit_hint] = -1\n",
    "            elif (value_hint != 1):\n",
    "                if value_hint == card_value:\n",
    "                    card_hints[1] = [1 if x == card_value else -1 for x in range(self.num_values) ]\n",
    "                else:\n",
    "                    card_hints[1][suit_hint] = -1\n",
    "            else:\n",
    "                print(\"We were given neither a suit nor a value.\")\n",
    "                return\n",
    "        self.hints -= 1\n",
    "        return\n",
    "\n",
    "    \n",
    "    def performMove(self, index = -1, move = None):\n",
    "        if index == -1 and move == None:\n",
    "            print(\"What move would you like to do?\")\n",
    "            return\n",
    "        if index > len(self.legal_move_list):\n",
    "            print(\"Choose a valid move. [Index out of range.]\")\n",
    "            return\n",
    "        if move != None and move not in legal_move_list:\n",
    "            print(\"Choose a valid move. [Move not legal.]\")\n",
    "            return\n",
    "\n",
    "        if index != -1:\n",
    "            move = self.legal_move_list[index]\n",
    "#         else:\n",
    "#             index = legal_move_list.index(move)\n",
    "        \n",
    "        # Reminder: move = (play/discard/hint, card to play/discard index, player to give hint, suit hint, value hint)\n",
    "        # Reminder: move[0]: 0 - Play, 1 - Discard, 2 - Hint\n",
    "        if move[0] == 0:\n",
    "            self.playCard(move[1])\n",
    "        elif move[0] == 1:\n",
    "            self.discardCard(move[1])\n",
    "        elif move[0] == 2:\n",
    "            self.giveHint((move[2], move[3], move[4]))\n",
    "        \n",
    "        # Next player's turn\n",
    "        self.legalMoves()\n",
    "        for card in self.player_hints[self.current_player_turn]:\n",
    "            # Increment the time the card has been in the player's hand\n",
    "            card[2] += 1\n",
    "        self.current_player_turn = (self.current_player_turn + 1) % self.num_players\n",
    "        "
   ]
  },
  {
   "cell_type": "code",
   "execution_count": 69,
   "metadata": {},
   "outputs": [],
   "source": [
    "test_game = HanabiGame()"
   ]
  },
  {
   "cell_type": "code",
   "execution_count": 70,
   "metadata": {},
   "outputs": [
    {
     "name": "stdout",
     "output_type": "stream",
     "text": [
      "From the perspective of player 0\n",
      "The current score is 0.\n",
      "You have 3 lives and 8 hints left.\n",
      "There are 40 cards left in the deck.\n",
      "You have not played any cards of suit 0\n",
      "You have not played any cards of suit 1\n",
      "You have not played any cards of suit 2\n",
      "You have not played any cards of suit 3\n",
      "You have not played any cards of suit 4\n",
      "You don't know anything about card 0.\n",
      "You don't know anything about card 1.\n",
      "You don't know anything about card 2.\n",
      "You don't know anything about card 3.\n",
      "You don't know anything about card 4.\n"
     ]
    }
   ],
   "source": [
    "test_game.printBoardState()"
   ]
  },
  {
   "cell_type": "code",
   "execution_count": 71,
   "metadata": {},
   "outputs": [
    {
     "name": "stdout",
     "output_type": "stream",
     "text": [
      "It is Player 0's turn.\n",
      "0: You can play your 0 card.\n",
      "1: You can play your 1 card.\n",
      "2: You can play your 2 card.\n",
      "3: You can play your 3 card.\n",
      "4: You can play your 4 card.\n",
      "5: You can discard your 0 card.\n",
      "6: You can discard your 1 card.\n",
      "7: You can discard your 2 card.\n",
      "8: You can discard your 3 card.\n",
      "9: You can discard your 4 card.\n",
      "10: You can tell player 1 about their cards of suit 0.\n",
      "11: You can tell player 1 about their cards of suit 1.\n",
      "12: You can tell player 1 about their cards of suit 2.\n",
      "13: You can tell player 1 about their cards of suit 3.\n",
      "14: You can tell player 1 about their cards of suit 4.\n",
      "15: You can tell player 1 about their cards of value 0.\n",
      "16: You can tell player 1 about their cards of value 1.\n",
      "17: You can tell player 1 about their cards of value 2.\n",
      "18: You can tell player 1 about their cards of value 3.\n",
      "19: You can tell player 1 about their cards of value 4.\n"
     ]
    }
   ],
   "source": [
    "test_game.printLegalMoves()"
   ]
  },
  {
   "cell_type": "code",
   "execution_count": 72,
   "metadata": {},
   "outputs": [],
   "source": [
    "test_game.performMove(index = 10)"
   ]
  },
  {
   "cell_type": "code",
   "execution_count": 73,
   "metadata": {},
   "outputs": [
    {
     "name": "stdout",
     "output_type": "stream",
     "text": [
      "It is Player 1's turn.\n",
      "0: You can play your 0 card.\n",
      "1: You can play your 1 card.\n",
      "2: You can play your 2 card.\n",
      "3: You can play your 3 card.\n",
      "4: You can play your 4 card.\n",
      "5: You can discard your 0 card.\n",
      "6: You can discard your 1 card.\n",
      "7: You can discard your 2 card.\n",
      "8: You can discard your 3 card.\n",
      "9: You can discard your 4 card.\n",
      "10: You can tell player 0 about their cards of suit 0.\n",
      "11: You can tell player 0 about their cards of suit 1.\n",
      "12: You can tell player 0 about their cards of suit 2.\n",
      "13: You can tell player 0 about their cards of suit 3.\n",
      "14: You can tell player 0 about their cards of suit 4.\n",
      "15: You can tell player 0 about their cards of value 0.\n",
      "16: You can tell player 0 about their cards of value 1.\n",
      "17: You can tell player 0 about their cards of value 2.\n",
      "18: You can tell player 0 about their cards of value 3.\n",
      "19: You can tell player 0 about their cards of value 4.\n"
     ]
    }
   ],
   "source": [
    "test_game.printLegalMoves()"
   ]
  },
  {
   "cell_type": "code",
   "execution_count": 74,
   "metadata": {
    "scrolled": true
   },
   "outputs": [
    {
     "name": "stdout",
     "output_type": "stream",
     "text": [
      "From the perspective of player 1\n",
      "The current score is 0.\n",
      "You have 3 lives and 7 hints left.\n",
      "There are 40 cards left in the deck.\n",
      "You have not played any cards of suit 0\n",
      "You have not played any cards of suit 1\n",
      "You have not played any cards of suit 2\n",
      "You have not played any cards of suit 3\n",
      "You have not played any cards of suit 4\n",
      "You know card 0 is not of suit 0.\n",
      "You don't know anything about the value of card 0.\n",
      "You know card 1 is not of suit 0.\n",
      "You don't know anything about the value of card 1.\n",
      "You know that 2 is of suit 0\n",
      "You don't know anything about the value of card 2.\n",
      "You know that 3 is of suit 0\n",
      "You don't know anything about the value of card 3.\n",
      "You know card 4 is not of suit 0.\n",
      "You don't know anything about the value of card 4.\n"
     ]
    }
   ],
   "source": [
    "test_game.printBoardState()"
   ]
  },
  {
   "cell_type": "code",
   "execution_count": 75,
   "metadata": {},
   "outputs": [
    {
     "data": {
      "text/plain": [
       "[[0, 0, 0, 0, 0],\n",
       " [0, 0, 0, 0, 0],\n",
       " [0, 0, 0, 0, 0],\n",
       " [0, 0, 0, 0, 0],\n",
       " [0, 0, 0, 0, 0]]"
      ]
     },
     "execution_count": 75,
     "metadata": {},
     "output_type": "execute_result"
    }
   ],
   "source": [
    "test_game.discards"
   ]
  },
  {
   "cell_type": "code",
   "execution_count": null,
   "metadata": {},
   "outputs": [],
   "source": []
  },
  {
   "cell_type": "code",
   "execution_count": null,
   "metadata": {},
   "outputs": [],
   "source": [
    "# Implementation of Game Manager that will run games for the player AI and provide training"
   ]
  },
  {
   "cell_type": "code",
   "execution_count": 108,
   "metadata": {},
   "outputs": [],
   "source": []
  },
  {
   "cell_type": "code",
   "execution_count": 145,
   "metadata": {
    "scrolled": true
   },
   "outputs": [
    {
     "name": "stdout",
     "output_type": "stream",
     "text": [
      "The input length is 144.\n",
      "0 0\n",
      "1 0\n"
     ]
    }
   ],
   "source": [
    "def flatten(list_to_flatten):\n",
    "        found_something_to_flatten = True\n",
    "        while(found_something_to_flatten == True):\n",
    "            found_something_to_flatten = False\n",
    "            temp_list = []\n",
    "            for i, item in enumerate(list_to_flatten):\n",
    "                if isinstance(item, list):\n",
    "                    found_something_to_flatten = True\n",
    "                    temp_list += list_to_flatten[i]\n",
    "                else:\n",
    "                    temp_list.append(list_to_flatten[i])\n",
    "            list_to_flatten = temp_list\n",
    "        return list_to_flatten\n",
    "    \n",
    "test_game = HanabiGame()\n",
    "\n",
    "flat_state = flatten(test_game.boardState(0))\n",
    "input_size = len(flat_state) # This equals 144 in 2 player normal game\n",
    "print(f\"The input length is {input_size}.\")\n",
    "\n",
    "# Genetic Algorithm to find a good HanabiAI\n",
    "# Initialize with 2*N players (Initial Population)\n",
    "\n",
    "population = 2*1\n",
    "# The weights in this current implementation are 10,880\n",
    "num_weights = 10880\n",
    "current_generation_players = []\n",
    "\n",
    "for i in range(population):\n",
    "    # [Player, score_achieved]\n",
    "    current_generation_weights.append([HanabiPlayer(game_state_size=input_size,weights=np.random.rand(10880)), 0])\n",
    "\n",
    "\n",
    "    \n",
    "# Evalute the fitness of each player (which we'll consider to be the maximum score obtained before game ends.)\n",
    "\n",
    "# I am going to implement it now where pairs of players play different games, but maybe it'd be better \n",
    "# to have all pairs of players play through the same game for fairness. If they happen to play an easy game\n",
    "# They might get a bias.\n",
    "\n",
    "#How many times will we train the group?\n",
    "num_gen_to_train = 2\n",
    "\n",
    "for i in range(num_gen_to_train):\n",
    "    # Sort randomly and take pairs in order as game partners\n",
    "    random.shuffle(current_generation_players)\n",
    "    for j in range(int(population/2)):\n",
    "        cur_game = HanabiGame()\n",
    "        while cur_game.game_end == False:\n",
    "            print(i,j)\n",
    "            break\n",
    "\n",
    "# Generate a new generation by randomly choosing two* parents biased upon fitness\n",
    "# Create a child with new weights based upon the cross-over of parents\n",
    "# Mutate with some small chance\n",
    "# Repeat\n",
    "\n",
    "# Save weights after training? Or maybe save N of them?\n",
    "\n",
    "\n",
    "\n",
    "\n"
   ]
  },
  {
   "cell_type": "code",
   "execution_count": 139,
   "metadata": {},
   "outputs": [
    {
     "data": {
      "text/plain": [
       "[1, 3, 2]"
      ]
     },
     "execution_count": 139,
     "metadata": {},
     "output_type": "execute_result"
    }
   ],
   "source": [
    "A =[1,2,3]\n",
    "random.shuffle(A);A"
   ]
  },
  {
   "cell_type": "code",
   "execution_count": null,
   "metadata": {},
   "outputs": [],
   "source": [
    "# Implementation of Player AI"
   ]
  },
  {
   "cell_type": "code",
   "execution_count": 129,
   "metadata": {},
   "outputs": [],
   "source": [
    "import numpy as np\n",
    "import random\n",
    "import statistics\n",
    "import tensorflow as tf\n",
    "from tensorflow import keras\n",
    "from tensorflow.keras.models import Sequential\n",
    "from tensorflow.keras.layers import Activation, Dense\n",
    "\n",
    "from tensorflow.keras.optimizers import Adam\n",
    "from tensorflow.keras.metrics import categorical_crossentropy\n",
    "\n",
    "class HanabiPlayer:\n",
    "    \n",
    "    # Game state will be ordered as\n",
    "    # [[score]: 1, [lives remaining]: 1, [hints available]: 1, [# cards in deck]: 1,\n",
    "    # [Cards in play]: num_suits, [Discards]: num_suits*num_values, [Hints in Hand], [Other People's Hands Hints]]\n",
    "    def __init__(self, game_state_size, weights, num_players = 2):\n",
    "        \n",
    "        self.game_state_size = game_state_size\n",
    "        self.num_players = 2\n",
    "        \n",
    "        # These are random. Just a guess!\n",
    "        second_layer_size = 64\n",
    "        third_layer_size = 16\n",
    "        \n",
    "        # Allows for modular layer sizes\n",
    "        # The final layer is the number of possible moves to output.\n",
    "        # There are always hand_size*2 (plays or discards) + num_opponents * (num_values + num_suits) (hints)\n",
    "        # possible moves. FOR NOW -- We're gonna assume normal hand size with 5 suits and 5 values for convenience.\n",
    "        # Hence, 5*2 + (num_players - 1)*10\n",
    "        self.layer_sizes = [second_layer_size, third_layer_size, 10+10*(self.num_players-1)]\n",
    "        \n",
    "        self.model = Sequential([\n",
    "            # Input will be a vector of game_state_size length\n",
    "            Dense(units=self.layer_sizes[0], input_shape=(game_state_size,), use_bias=False, activation='relu'),\n",
    "            Dense(units=self.layer_sizes[1], use_bias=False, activation='relu'),\n",
    "            Dense(units=self.layer_sizes[2], use_bias=False, activation='sigmoid')\n",
    "        ])\n",
    "        \n",
    "#         if any(weights == None):\n",
    "#             self.weights = np.array([0]*((game_state_size)*64+64*16+16*20))\n",
    "#         else:\n",
    "        \n",
    "        self.set_weights(weights)\n",
    "    \n",
    "        # Since we will be updating the weights ourselves, this isn't necessary...\n",
    "        self.model.compile(optimizer=Adam(learning_rate=0.0001), loss='sparse_categorical_crossentropy',metrics=['accuracy'])\n",
    "        \n",
    "        \n",
    "    # Set the given weights for the model\n",
    "    def set_weights(self, np_flat_weights):\n",
    "        if len(np_flat_weights) != (self.game_state_size*self.layer_sizes[0]+\n",
    "                                    self.layer_sizes[0]*self.layer_sizes[1]+\n",
    "                                    self.layer_sizes[1]*self.layer_sizes[2]):\n",
    "            weights0 = np_flat_weights[:self.game_state_size*self.layer_sizes[0]].copy()\n",
    "            weights1 = np_flat_weights[self.game_state_size*self.layer_sizes[0]:\n",
    "                                      self.layer_sizes[0]*self.layer_sizes[1]].copy()\n",
    "            weights2 = np_flat_weights[self.layer_sizes[0]*self.layer_sizes[1]:\n",
    "                                      self.layer_sizes[1]*self.layer_sizes[2]].copy()\n",
    "            \n",
    "            weights0.resize(self.game_state_size,self.layer_sizes[0])\n",
    "            weights1.resize(self.layer_sizes[0],self.layer_sizes[1])\n",
    "            weights2.resize(self.layer_sizes[1],self.layer_sizes[2])\n",
    "\n",
    "            self.model.layers[0].set_weights([weights0])\n",
    "            self.model.layers[1].set_weights([weights1])\n",
    "            self.model.layers[2].set_weights([weights2])\n",
    "            \n",
    "            return\n",
    "        \n",
    "    \n",
    "    def choose_best_move(self, move_list, game_state):\n",
    "        \n",
    "        neural_input = np.asarray([])\n",
    "        return\n",
    "    \n",
    "    def update_game(self, game_state):\n",
    "        self.game_state = game_state\n",
    "        return\n",
    "    \n",
    "    # Genetic Algorithm Stuff\n",
    "    def dna_crossover(self, partners):\n",
    "        partners.append(self.weights)\n",
    "        average_weights = []\n",
    "        for i in range(len(self.weights)):\n",
    "            average_weights.append(statistics.mean([player_weight[i] for player_weight in partners]))\n",
    "        return self.mutate(average_weights)\n",
    "    \n",
    "    def mutate(self, dna_weights):\n",
    "        mutation_rate = 0.01\n",
    "        new_weights = []\n",
    "        \n",
    "        for weight in dna_weights:\n",
    "            if random.random() < mutation_rate:\n",
    "                new_weights.append(random.random())\n",
    "            else:\n",
    "                new_weights.append(weight)\n",
    "        \n",
    "        return new_weights\n",
    "\n",
    "# test_game = HanabiGame()\n",
    "# input_size = len(flatten(test_game.boardState(0)))+len(test_game.legal_move_list[0])\n",
    "# print(input_size)\n",
    "# test_player = HanabiPlayer(game_state_size = input_size)\n",
    "# # len(board_state) = 4 + num_suits + num_suits*num_values + hand_size*(num_suits+num_values+1)*num_players + len(move)\n",
    "# # In 2 player, 5 cards, 5 suits, 5 values, you should get 144\n",
    "# weights = test_player.model.get_weights()\n",
    "# test_player.model.summary()"
   ]
  },
  {
   "cell_type": "code",
   "execution_count": 71,
   "metadata": {},
   "outputs": [
    {
     "data": {
      "text/plain": [
       "array([0, 0])"
      ]
     },
     "execution_count": 71,
     "metadata": {},
     "output_type": "execute_result"
    }
   ],
   "source": [
    "np.array([0,0])"
   ]
  },
  {
   "cell_type": "code",
   "execution_count": 54,
   "metadata": {},
   "outputs": [
    {
     "data": {
      "text/plain": [
       "(149, 64)"
      ]
     },
     "execution_count": 54,
     "metadata": {},
     "output_type": "execute_result"
    }
   ],
   "source": [
    "test_player.model.layers[0].get_weights()[0].shape"
   ]
  },
  {
   "cell_type": "code",
   "execution_count": 56,
   "metadata": {},
   "outputs": [
    {
     "data": {
      "text/plain": [
       "array([[ 0.08083725, -0.16372919,  0.13646606, ...,  0.10873467,\n",
       "        -0.07031066,  0.14976054],\n",
       "       [-0.0698402 ,  0.07548264,  0.02912329, ...,  0.0288291 ,\n",
       "        -0.15149724,  0.06777997],\n",
       "       [-0.15602344, -0.06794512, -0.02990806, ..., -0.04343148,\n",
       "         0.02203298, -0.07477309],\n",
       "       ...,\n",
       "       [-0.16625635, -0.09392204,  0.00844222, ..., -0.08807269,\n",
       "         0.04357317,  0.15217835],\n",
       "       [-0.16565296, -0.10612939,  0.1478456 , ...,  0.13770753,\n",
       "         0.09658301,  0.15465763],\n",
       "       [ 0.09059453,  0.0597778 ,  0.12578863, ...,  0.06466271,\n",
       "         0.07777975,  0.1496864 ]], dtype=float32)"
      ]
     },
     "execution_count": 56,
     "metadata": {},
     "output_type": "execute_result"
    }
   ],
   "source": [
    "test_player.model.layers[0].get_weights()[0]"
   ]
  },
  {
   "cell_type": "code",
   "execution_count": 55,
   "metadata": {},
   "outputs": [
    {
     "name": "stdout",
     "output_type": "stream",
     "text": [
      "[[0.42339469 0.59072736 0.04346396 0.36921308 0.57324186 0.47863045\n",
      "  0.45791628 0.47804995 0.16343983 0.30044142 0.57172537 0.00194719\n",
      "  0.84115561 0.81339363 0.19973684 0.4461811  0.32571168 0.44035575\n",
      "  0.83788181 0.16891712 0.0667543  0.31636646 0.26248435 0.98899494\n",
      "  0.21391741 0.39581786 0.10046035 0.39308135 0.02301789 0.79999569\n",
      "  0.71346973 0.00156998 0.56385111 0.61771368 0.01113974 0.39016874\n",
      "  0.76070422 0.96651385 0.37124463 0.85165317 0.55980967 0.58968647\n",
      "  0.62261158 0.0851347  0.660229   0.88334776 0.11124298 0.68901369\n",
      "  0.8705029  0.50224778 0.29646481 0.28232894 0.18858136 0.98203882\n",
      "  0.83226869 0.6535438  0.16350148 0.86605551 0.8586029  0.61741073\n",
      "  0.67374615 0.40780479 0.49670143 0.40764699 0.01630312 0.42643567\n",
      "  0.85709073 0.61993484 0.92824184 0.18155639 0.20618189 0.89820398\n",
      "  0.99704972 0.63952065 0.88343214 0.27642614 0.32408112 0.79657105\n",
      "  0.7250619  0.64232649 0.93042271 0.32974205 0.17189262 0.35596026\n",
      "  0.55618476 0.02335208 0.05308243 0.359221   0.63584445 0.34490491\n",
      "  0.22369297 0.29216868 0.80978192 0.24764335 0.87232178 0.68773036\n",
      "  0.67147076 0.5410035  0.51081027 0.34219046 0.33587627 0.86368824\n",
      "  0.27762837 0.74917116 0.40773784 0.98049492 0.38376292 0.9427405\n",
      "  0.73843767 0.3211998  0.89474118 0.0393665  0.34614098 0.55718744\n",
      "  0.22780367 0.32982393 0.8914225  0.90659244 0.70851909 0.25664815\n",
      "  0.85929403 0.21026291 0.1240656  0.10517278 0.96189956 0.8484295\n",
      "  0.53225752 0.9760708  0.71515016 0.87293659 0.35578546 0.13330642\n",
      "  0.95021796 0.23423529 0.92397083 0.65381348 0.66799983 0.04771889\n",
      "  0.67395104 0.10272159 0.88204743 0.66503225 0.02891628 0.10980642\n",
      "  0.52963205 0.12604061 0.52856868 0.43395373 0.31877163]] [0.66641238 0.81881395 0.78940734 0.64513532 0.15642735 0.02783104\n",
      " 0.47273081 0.8571054  0.97117933 0.1247039  0.88963412 0.64494566\n",
      " 0.58239079 0.94733075 0.91037895 0.74849988 0.29524412 0.77615273\n",
      " 0.63737356 0.43036256 0.93243079 0.81958387 0.41705309 0.80086329\n",
      " 0.24692598 0.33028335 0.48742489 0.65812648 0.35982573 0.48833393\n",
      " 0.58079523 0.3391504  0.57054167 0.5840764  0.99545855 0.31881745\n",
      " 0.1728315  0.32106289 0.76007765 0.83156931 0.73601695 0.90843764\n",
      " 0.55264626 0.75992459 0.30835557 0.8037008  0.16226277 0.57767507\n",
      " 0.67667924 0.21018632 0.59012992 0.10628114 0.45118944 0.67350163\n",
      " 0.0864674  0.78414148 0.574184   0.83910583 0.69064599 0.33032225\n",
      " 0.18644445 0.27740856 0.68844909 0.37873509 0.90993033 0.83161049\n",
      " 0.92265725 0.48458509 0.89053769 0.44159361 0.99006219 0.76177692\n",
      " 0.4733173  0.04475168 0.72107948 0.4022019  0.15124615 0.71702961\n",
      " 0.37805067 0.82970958 0.1346386  0.4598462  0.00206438 0.90500511\n",
      " 0.86503776 0.90916595 0.14142976 0.2991374  0.58287046 0.15045606\n",
      " 0.71973738 0.16023606 0.97134122 0.27657211 0.31872116 0.88873742\n",
      " 0.96057039 0.32609184 0.98730697 0.44395734 0.1581869  0.54364243\n",
      " 0.32742357 0.40184152 0.77472972 0.08311619 0.4514334  0.80554045\n",
      " 0.9661542  0.81348672 0.37563207 0.42378475 0.28660939 0.88532415\n",
      " 0.83747186 0.60974404 0.91933626 0.29632448 0.59823904 0.47566091\n",
      " 0.76991209 0.16014981 0.0579546  0.31431239 0.22144955 0.10954161\n",
      " 0.18937531 0.01724865 0.47063587 0.94136872 0.51015041 0.78891896\n",
      " 0.09236054 0.70229267 0.44363496 0.30540515 0.62371813 0.53748717\n",
      " 0.64918922 0.97467582 0.03026562 0.66595522 0.99955741 0.75716152\n",
      " 0.29020581 0.54713961 0.53855878 0.83081737 0.05242227]\n"
     ]
    }
   ],
   "source": [
    "new_weights = np.random.rand(1,149)\n",
    "new_bias = np.random.rand(149)\n",
    "print(new_weights, new_bias)"
   ]
  },
  {
   "cell_type": "code",
   "execution_count": 35,
   "metadata": {},
   "outputs": [],
   "source": [
    "test_player.model.layers[0].set_weights([new_weights,new_bias])"
   ]
  },
  {
   "cell_type": "code",
   "execution_count": 36,
   "metadata": {},
   "outputs": [
    {
     "data": {
      "text/plain": [
       "[array([[0.74102145, 0.849025  , 0.04187267, 0.7883437 , 0.01192012,\n",
       "         0.5243464 , 0.06813269, 0.96124667, 0.33558008, 0.93164283,\n",
       "         0.588623  , 0.67266136, 0.45087466, 0.51839036, 0.66178864,\n",
       "         0.09762914, 0.14006124, 0.94946045, 0.94838935, 0.6218719 ,\n",
       "         0.9905013 , 0.25324613, 0.01156903, 0.52270705, 0.08498961,\n",
       "         0.8288506 , 0.8663491 , 0.4742032 , 0.16545579, 0.288636  ,\n",
       "         0.38427716, 0.41033298, 0.5384884 , 0.14657351, 0.64696455,\n",
       "         0.04869553, 0.40379876, 0.04056195, 0.67256176, 0.66531813,\n",
       "         0.60797656, 0.00682958, 0.44513407, 0.04815576, 0.42611706,\n",
       "         0.6989127 , 0.5338269 , 0.19528802, 0.39488664, 0.80430424,\n",
       "         0.7494596 , 0.68400526, 0.8781394 , 0.71430045, 0.33782193,\n",
       "         0.9610376 , 0.90094477, 0.978812  , 0.37901828, 0.26521376,\n",
       "         0.40755296, 0.43177605, 0.61608744, 0.9786455 , 0.9256213 ,\n",
       "         0.7425722 , 0.9052971 , 0.15342563, 0.6995551 , 0.13974942,\n",
       "         0.29918578, 0.01148409, 0.98709774, 0.18267083, 0.84615034,\n",
       "         0.38967916, 0.30902562, 0.489307  , 0.37001735, 0.9150872 ,\n",
       "         0.8479686 , 0.04752565, 0.31380922, 0.2710868 , 0.25094151,\n",
       "         0.26470336, 0.53208876, 0.3180704 , 0.34210557, 0.26756856,\n",
       "         0.726079  , 0.22147207, 0.819669  , 0.78834164, 0.6181614 ,\n",
       "         0.03470217, 0.09242115, 0.9366844 , 0.00566168, 0.92041624,\n",
       "         0.607458  , 0.29448593, 0.29074842, 0.08835661, 0.04534235,\n",
       "         0.7104138 , 0.6991428 , 0.32051337, 0.6136557 , 0.81281483,\n",
       "         0.81589264, 0.9738914 , 0.27535522, 0.9659229 , 0.00387217,\n",
       "         0.9050022 , 0.80657315, 0.39247045, 0.6114215 , 0.88909554,\n",
       "         0.78989166, 0.48609823, 0.23049107, 0.6671954 , 0.21827577,\n",
       "         0.4660505 , 0.61816806, 0.50780547, 0.965843  , 0.07437067,\n",
       "         0.4125849 , 0.9049503 , 0.44874302, 0.21637619, 0.8050224 ,\n",
       "         0.97433096, 0.7277982 , 0.37967005, 0.11042157, 0.20242536,\n",
       "         0.74366164, 0.07853758, 0.89253277, 0.09882963, 0.18067223,\n",
       "         0.8458992 , 0.4798797 , 0.06318072, 0.13259906]], dtype=float32),\n",
       " array([0.6444736 , 0.03062693, 0.7484079 , 0.15335059, 0.6931452 ,\n",
       "        0.5938985 , 0.9785832 , 0.10658017, 0.51403815, 0.34294978,\n",
       "        0.45265296, 0.5499602 , 0.19920133, 0.21195231, 0.96860147,\n",
       "        0.7002166 , 0.2137013 , 0.68015   , 0.2915911 , 0.01778776,\n",
       "        0.52230567, 0.20297724, 0.06886471, 0.2283463 , 0.18362871,\n",
       "        0.8140097 , 0.41840938, 0.6967819 , 0.8402921 , 0.30074573,\n",
       "        0.6734097 , 0.7138293 , 0.7796612 , 0.30188885, 0.59560925,\n",
       "        0.10547538, 0.91717863, 0.8711717 , 0.08022785, 0.52630836,\n",
       "        0.5669207 , 0.54316336, 0.37011674, 0.72541314, 0.73787045,\n",
       "        0.34681764, 0.49491483, 0.73559034, 0.20350292, 0.15988944,\n",
       "        0.8163524 , 0.5611452 , 0.8798797 , 0.36347702, 0.24242975,\n",
       "        0.91314346, 0.07587815, 0.14844212, 0.8541917 , 0.07887814,\n",
       "        0.8873745 , 0.7165778 , 0.7684508 , 0.9471615 , 0.08857214,\n",
       "        0.41958517, 0.24324305, 0.9567382 , 0.24955446, 0.22791772,\n",
       "        0.3066961 , 0.26322275, 0.8174008 , 0.19575217, 0.6874876 ,\n",
       "        0.70254725, 0.6997037 , 0.51598555, 0.2828537 , 0.5731037 ,\n",
       "        0.4901127 , 0.62884074, 0.45219904, 0.9927984 , 0.22475307,\n",
       "        0.61626685, 0.4334465 , 0.19163735, 0.2602304 , 0.8581419 ,\n",
       "        0.7412078 , 0.10758244, 0.04058614, 0.21891323, 0.2901126 ,\n",
       "        0.44661668, 0.15648335, 0.31821015, 0.3304788 , 0.24746123,\n",
       "        0.38015497, 0.46129882, 0.6730911 , 0.18122227, 0.50148326,\n",
       "        0.46720913, 0.15535098, 0.00128316, 0.67914534, 0.41012317,\n",
       "        0.7624369 , 0.4264858 , 0.17477934, 0.6729461 , 0.782907  ,\n",
       "        0.9669918 , 0.03840512, 0.16188283, 0.02682376, 0.54839617,\n",
       "        0.9803723 , 0.05943555, 0.754173  , 0.8156054 , 0.04200954,\n",
       "        0.6125433 , 0.4534233 , 0.8362716 , 0.9502625 , 0.39845398,\n",
       "        0.10012525, 0.34315243, 0.8657911 , 0.07971654, 0.53142774,\n",
       "        0.79229486, 0.9704035 , 0.9774723 , 0.88536555, 0.2508084 ,\n",
       "        0.13830164, 0.14130656, 0.5515208 , 0.05474257, 0.17324235,\n",
       "        0.5120527 , 0.55901253, 0.30501962, 0.8044403 ], dtype=float32)]"
      ]
     },
     "execution_count": 36,
     "metadata": {},
     "output_type": "execute_result"
    }
   ],
   "source": [
    "test_player.model.layers[0].get_weights()"
   ]
  },
  {
   "cell_type": "code",
   "execution_count": 45,
   "metadata": {},
   "outputs": [
    {
     "name": "stdout",
     "output_type": "stream",
     "text": [
      "0 (1, 149)\n",
      "1 (149, 64)\n",
      "2 (64, 16)\n",
      "3 (16, 1)\n"
     ]
    }
   ],
   "source": [
    "for i in range(len(test_player.model.layers)):\n",
    "    print(i, test_player.model.layers[i].get_weights()[0].shape)"
   ]
  },
  {
   "cell_type": "code",
   "execution_count": null,
   "metadata": {},
   "outputs": [],
   "source": []
  },
  {
   "cell_type": "code",
   "execution_count": null,
   "metadata": {},
   "outputs": [],
   "source": [
    "[i for i in range(10) if i!=2]"
   ]
  },
  {
   "cell_type": "code",
   "execution_count": null,
   "metadata": {},
   "outputs": [],
   "source": [
    "print(f\"Is{' not' if True else ''}!\")"
   ]
  },
  {
   "cell_type": "code",
   "execution_count": null,
   "metadata": {},
   "outputs": [],
   "source": [
    "A = [[1,2],[3,4]]\n",
    "for a in A:\n",
    "    a[0] = 0\n",
    "A"
   ]
  },
  {
   "cell_type": "code",
   "execution_count": 22,
   "metadata": {},
   "outputs": [],
   "source": [
    "A = [0,0,1]\n",
    "B = ['a' if x == 0 else 'b' for x in A ]"
   ]
  },
  {
   "cell_type": "code",
   "execution_count": 23,
   "metadata": {},
   "outputs": [
    {
     "data": {
      "text/plain": [
       "['a', 'a', 'b']"
      ]
     },
     "execution_count": 23,
     "metadata": {},
     "output_type": "execute_result"
    }
   ],
   "source": [
    "B"
   ]
  },
  {
   "cell_type": "code",
   "execution_count": 158,
   "metadata": {},
   "outputs": [
    {
     "data": {
      "text/plain": [
       "0.42255412843089846"
      ]
     },
     "execution_count": 158,
     "metadata": {},
     "output_type": "execute_result"
    }
   ],
   "source": [
    "random.random()"
   ]
  },
  {
   "cell_type": "code",
   "execution_count": 81,
   "metadata": {},
   "outputs": [],
   "source": []
  },
  {
   "cell_type": "code",
   "execution_count": 82,
   "metadata": {},
   "outputs": [
    {
     "data": {
      "text/plain": [
       "[1, 2, 3, 4, 5, 6, 7, 8]"
      ]
     },
     "execution_count": 82,
     "metadata": {},
     "output_type": "execute_result"
    }
   ],
   "source": [
    "flatten([[[1,2],[3,4]],[[5,6],[7,8]]])"
   ]
  },
  {
   "cell_type": "code",
   "execution_count": 80,
   "metadata": {},
   "outputs": [
    {
     "data": {
      "text/plain": [
       "[1, 2, 1, 2, 3]"
      ]
     },
     "execution_count": 80,
     "metadata": {},
     "output_type": "execute_result"
    }
   ],
   "source": [
    "[1,2] + [1,2,3]"
   ]
  },
  {
   "cell_type": "code",
   "execution_count": 157,
   "metadata": {},
   "outputs": [
    {
     "name": "stdout",
     "output_type": "stream",
     "text": [
      "[1, [[1, 2], [3, 4], [5, 6]]]\n"
     ]
    }
   ],
   "source": [
    "A = [1]\n",
    "A.append([[1,2],[3,4],[5,6]])\n",
    "print(A)"
   ]
  },
  {
   "cell_type": "code",
   "execution_count": 46,
   "metadata": {},
   "outputs": [],
   "source": [
    "input_shape=(28,28,1)\n",
    "model = tf.keras.Sequential(\n",
    "    [\n",
    "        tf.keras.Input(shape=input_shape,name='input'),\n",
    "        tf.keras.layers.Conv2D(32, kernel_size=(3, 3),kernel_initializer=tf.keras.initializers.zeros(),\n",
    "                               activation=\"relu\",use_bias=True,name='conv1'),\n",
    "        tf.keras.layers.Flatten(),\n",
    "        tf.keras.layers.Dense(10, activation=\"relu\",use_bias=True,bias_initializer='zeros',name='dense1'),\n",
    "        tf.keras.layers.Dense(1, activation=\"softmax\",name='output'),\n",
    "    ]\n",
    ")"
   ]
  },
  {
   "cell_type": "code",
   "execution_count": 47,
   "metadata": {},
   "outputs": [
    {
     "name": "stdout",
     "output_type": "stream",
     "text": [
      "Model: \"sequential_23\"\n",
      "_________________________________________________________________\n",
      "Layer (type)                 Output Shape              Param #   \n",
      "=================================================================\n",
      "conv1 (Conv2D)               (None, 26, 26, 32)        320       \n",
      "_________________________________________________________________\n",
      "flatten (Flatten)            (None, 21632)             0         \n",
      "_________________________________________________________________\n",
      "dense1 (Dense)               (None, 10)                216330    \n",
      "_________________________________________________________________\n",
      "output (Dense)               (None, 1)                 11        \n",
      "=================================================================\n",
      "Total params: 216,661\n",
      "Trainable params: 216,661\n",
      "Non-trainable params: 0\n",
      "_________________________________________________________________\n"
     ]
    }
   ],
   "source": [
    "model.summary()"
   ]
  },
  {
   "cell_type": "code",
   "execution_count": 51,
   "metadata": {},
   "outputs": [
    {
     "data": {
      "text/plain": [
       "(21632, 10)"
      ]
     },
     "execution_count": 51,
     "metadata": {},
     "output_type": "execute_result"
    }
   ],
   "source": [
    "model.layers[2].get_weights()[0].shape"
   ]
  },
  {
   "cell_type": "code",
   "execution_count": 81,
   "metadata": {},
   "outputs": [],
   "source": [
    "model = Sequential([\n",
    "            # Input will be a vector of game_state_size length\n",
    "            Dense(units=64, input_shape=(145,), use_bias=False, activation='relu'),\n",
    "            Dense(units=16, use_bias=False , activation='relu'),\n",
    "            Dense(units=20, use_bias=False , activation='sigmoid')\n",
    "        ])"
   ]
  },
  {
   "cell_type": "code",
   "execution_count": 96,
   "metadata": {},
   "outputs": [
    {
     "data": {
      "text/plain": [
       "[array([[ 0.15846945,  0.06074631, -0.01116447, ...,  0.02850984,\n",
       "          0.10836868,  0.09538428],\n",
       "        [-0.00508413,  0.01548098,  0.09077625, ..., -0.13243306,\n",
       "         -0.07646503,  0.153733  ],\n",
       "        [-0.06557158, -0.05744778, -0.01121141, ..., -0.06366156,\n",
       "         -0.14667942,  0.05371822],\n",
       "        ...,\n",
       "        [-0.13363801, -0.13073698, -0.13653584, ..., -0.12998056,\n",
       "         -0.07833579, -0.11672892],\n",
       "        [-0.03898995, -0.09688929,  0.06942947, ..., -0.06940912,\n",
       "          0.11978547,  0.05719483],\n",
       "        [ 0.09379824, -0.13047986,  0.02441622, ...,  0.16348226,\n",
       "          0.16421558,  0.14800413]], dtype=float32)]"
      ]
     },
     "execution_count": 96,
     "metadata": {},
     "output_type": "execute_result"
    }
   ],
   "source": [
    "model.layers[0].get_weights()"
   ]
  },
  {
   "cell_type": "code",
   "execution_count": null,
   "metadata": {},
   "outputs": [],
   "source": []
  },
  {
   "cell_type": "code",
   "execution_count": 73,
   "metadata": {},
   "outputs": [
    {
     "data": {
      "text/plain": [
       "array([[0.97386815, 0.26938907, 0.41723122],\n",
       "       [0.0266759 , 0.106396  , 0.81905987]])"
      ]
     },
     "execution_count": 73,
     "metadata": {},
     "output_type": "execute_result"
    }
   ],
   "source": [
    "np.random.rand(2,3)"
   ]
  },
  {
   "cell_type": "code",
   "execution_count": 112,
   "metadata": {},
   "outputs": [
    {
     "data": {
      "text/plain": [
       "array([[0.76638923, 0.74973705],\n",
       "       [0.56472813, 0.94235854]])"
      ]
     },
     "execution_count": 112,
     "metadata": {},
     "output_type": "execute_result"
    }
   ],
   "source": [
    "A = np.random.rand(2,3)\n",
    "A.resize(6)\n",
    "B = A[2:6]\n",
    "B.resize(2,2);B"
   ]
  },
  {
   "cell_type": "code",
   "execution_count": 135,
   "metadata": {},
   "outputs": [
    {
     "data": {
      "text/plain": [
       "[0,\n",
       " 3,\n",
       " 8,\n",
       " 40,\n",
       " [-1, -1, -1, -1, -1],\n",
       " [[0, 0, 0, 0, 0],\n",
       "  [0, 0, 0, 0, 0],\n",
       "  [0, 0, 0, 0, 0],\n",
       "  [0, 0, 0, 0, 0],\n",
       "  [0, 0, 0, 0, 0]],\n",
       " [[[0, 0, 0, 0, 0], [0, 0, 0, 0, 0], 0],\n",
       "  [[0, 0, 0, 0, 0], [0, 0, 0, 0, 0], 0],\n",
       "  [[0, 0, 0, 0, 0], [0, 0, 0, 0, 0], 0],\n",
       "  [[0, 0, 0, 0, 0], [0, 0, 0, 0, 0], 0],\n",
       "  [[0, 0, 0, 0, 0], [0, 0, 0, 0, 0], 0]],\n",
       " [[[0, 0, 0, 0, 0], [0, 0, 0, 0, 0], 0],\n",
       "  [[0, 0, 0, 0, 0], [0, 0, 0, 0, 0], 0],\n",
       "  [[0, 0, 0, 0, 0], [0, 0, 0, 0, 0], 0],\n",
       "  [[0, 0, 0, 0, 0], [0, 0, 0, 0, 0], 0],\n",
       "  [[0, 0, 0, 0, 0], [0, 0, 0, 0, 0], 0]]]"
      ]
     },
     "execution_count": 135,
     "metadata": {},
     "output_type": "execute_result"
    }
   ],
   "source": [
    "game_a = HanabiGame()\n",
    "game_b = game_a\n",
    "game_b.boardState(0)"
   ]
  },
  {
   "cell_type": "code",
   "execution_count": 136,
   "metadata": {},
   "outputs": [
    {
     "data": {
      "text/plain": [
       "[0,\n",
       " 2,\n",
       " 8,\n",
       " 39,\n",
       " [-1, -1, -1, -1, -1],\n",
       " [[0, 1, 0, 0, 0],\n",
       "  [0, 0, 0, 0, 0],\n",
       "  [0, 0, 0, 0, 0],\n",
       "  [0, 0, 0, 0, 0],\n",
       "  [0, 0, 0, 0, 0]],\n",
       " [[[0, 0, 0, 0, 0], [0, 0, 0, 0, 0], 0],\n",
       "  [[0, 0, 0, 0, 0], [0, 0, 0, 0, 0], 0],\n",
       "  [[0, 0, 0, 0, 0], [0, 0, 0, 0, 0], 0],\n",
       "  [[0, 0, 0, 0, 0], [0, 0, 0, 0, 0], 0],\n",
       "  [[0, 0, 0, 0, 0], [0, 0, 0, 0, 0], 0]],\n",
       " [[[0, 0, 0, 0, 0], [0, 0, 0, 0, 0], 1],\n",
       "  [[0, 0, 0, 0, 0], [0, 0, 0, 0, 0], 1],\n",
       "  [[0, 0, 0, 0, 0], [0, 0, 0, 0, 0], 1],\n",
       "  [[0, 0, 0, 0, 0], [0, 0, 0, 0, 0], 1],\n",
       "  [[0, 0, 0, 0, 0], [0, 0, 0, 0, 0], 1]]]"
      ]
     },
     "execution_count": 136,
     "metadata": {},
     "output_type": "execute_result"
    }
   ],
   "source": [
    "game_b.performMove(index=0)\n",
    "game_a.boardState(1)"
   ]
  },
  {
   "cell_type": "code",
   "execution_count": 133,
   "metadata": {},
   "outputs": [
    {
     "data": {
      "text/plain": [
       "[(0, 0, -1, -1, -1),\n",
       " (0, 1, -1, -1, -1),\n",
       " (0, 2, -1, -1, -1),\n",
       " (0, 3, -1, -1, -1),\n",
       " (0, 4, -1, -1, -1),\n",
       " (1, 0, -1, -1, -1),\n",
       " (1, 1, -1, -1, -1),\n",
       " (1, 2, -1, -1, -1),\n",
       " (1, 3, -1, -1, -1),\n",
       " (1, 4, -1, -1, -1),\n",
       " (2, -1, 1, 0, -1),\n",
       " (2, -1, 1, 1, -1),\n",
       " (2, -1, 1, 2, -1),\n",
       " (2, -1, 1, 3, -1),\n",
       " (2, -1, 1, 4, -1),\n",
       " (2, -1, 1, -1, 0),\n",
       " (2, -1, 1, -1, 1),\n",
       " (2, -1, 1, -1, 2),\n",
       " (2, -1, 1, -1, 3),\n",
       " (2, -1, 1, -1, 4)]"
      ]
     },
     "execution_count": 133,
     "metadata": {},
     "output_type": "execute_result"
    }
   ],
   "source": [
    "game_b.legal_move_list"
   ]
  },
  {
   "cell_type": "code",
   "execution_count": null,
   "metadata": {},
   "outputs": [],
   "source": []
  }
 ],
 "metadata": {
  "kernelspec": {
   "display_name": "Python 3",
   "language": "python",
   "name": "python3"
  },
  "language_info": {
   "codemirror_mode": {
    "name": "ipython",
    "version": 3
   },
   "file_extension": ".py",
   "mimetype": "text/x-python",
   "name": "python",
   "nbconvert_exporter": "python",
   "pygments_lexer": "ipython3",
   "version": "3.6.12"
  }
 },
 "nbformat": 4,
 "nbformat_minor": 4
}
