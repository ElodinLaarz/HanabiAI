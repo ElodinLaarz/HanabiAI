{
 "cells": [
  {
   "cell_type": "code",
   "execution_count": 49,
   "metadata": {},
   "outputs": [],
   "source": [
    "# What things can you do on your turn in Hanabi?\n",
    "# 1. Play a card from your hand. -- Choose to play, choose a card.\n",
    "# 2. Discard a card from your hand. -- Choose to discard, choose a card.\n",
    "# 3. Give a hint to the other player about cards in their hand. -- Choose to give hint, choose a hint.\n",
    "\n",
    "# What information do you have at any point in the Hanabi Game?\n",
    "# 1. Hints given for each of your cards.\n",
    "# 2. Number of remaining hints.\n",
    "# 3. Number of cards left in the deck.\n",
    "# 4. Number of lives left.\n",
    "# 5. Hints given to other players already.\n",
    "# 6. Cards in play.\n",
    "# 7. Score.\n",
    "\n",
    "# Maybe we can describe the state by [[score], [lives remaining], [hints available], [# cards in deck],\n",
    "#                                     [Cards in play], [Hints in Hand], [Other People's Hands Hints]]"
   ]
  },
  {
   "cell_type": "code",
   "execution_count": 78,
   "metadata": {},
   "outputs": [],
   "source": [
    "# We will have a game manager script that takes in a list of players and sends them the game state when it is their turn.\n",
    "# We then instantiate a couple of players and have them play games trying to achieve the highest score."
   ]
  },
  {
   "cell_type": "code",
   "execution_count": 61,
   "metadata": {},
   "outputs": [],
   "source": [
    "import itertools\n",
    "import random\n",
    "\n",
    "class HanabiGame:\n",
    "    \n",
    "    def __init__(self, hand_size = 5, hints = 8, lives = 3, num_players = 2, num_suits = 5, num_values = 5):\n",
    "                    \n",
    "        # Hand Size\n",
    "        if hand_size < 1:\n",
    "            print(\"How are you going to play without any cards in your hand, silly?\")\n",
    "        self.hand_size = hand_size\n",
    "        \n",
    "        # Hints remaining\n",
    "        self.hints = hints\n",
    "        self.max_hints = self.hints\n",
    "        \n",
    "        # Lives remaining\n",
    "        self.lives = lives\n",
    "\n",
    "        # Number of players\n",
    "        if num_players < 2:\n",
    "            print(\"Hanabi must be played with at least two players.\")\n",
    "            \n",
    "        self.num_players = num_players\n",
    "        \n",
    "        # Suits of Cards\n",
    "        self.num_suits = num_suits\n",
    "        self.suits = list(range(self.num_suits))\n",
    "\n",
    "        # Values of Cards\n",
    "        # There are 3 zeros of each suit, one of the maximal value, and two of all others.\n",
    "        if num_values < 2:\n",
    "            print(\"Please allow for at least two values.\")\n",
    "        \n",
    "        self.num_values = num_values\n",
    "        self.values = [0, 0, 0] + list(range(1, self.num_values-1))*2 + [self.num_values-1]\n",
    "\n",
    "        # Deck\n",
    "        # A card in the deck's ten's place is the suit of the card and \n",
    "        # the one's place is the value\n",
    "        self.deck = [(suit,value) for suit, value in itertools.product(self.suits,self.values)]\n",
    "\n",
    "        # Cards in the Hands of each Player\n",
    "        self.player_hands = [[] for i in range(num_players)]\n",
    "        self.initialDeal()\n",
    "\n",
    "        # Hint information available to each player\n",
    "        # self.player_hints[0] = [Hints received for suits, Hints received for values, turns_in_hand]\n",
    "        # Hints received are either 0 (no info), 1 (positive info), or -1 (negative info)\n",
    "        # So, [[-1, 0, 0, 0, 0], [-1, 1, -1, -1, -1], 3] would correspond to knowing a card is\n",
    "        # NOT of suit 0 and IS of value 1 and has been in your hand for 3 turns.\n",
    "        self.player_hints = [[[[0]*self.num_suits,[0]*self.num_values, 0] for j in range(self.hand_size)]\n",
    "                             for i in range(self.num_players)]\n",
    "        \n",
    "        # Keep track of whose turn it is\n",
    "        self.current_player_turn = 0\n",
    "        \n",
    "        # Keep track of the score.\n",
    "        # Note*: Normally in Hanabi your score is zero until the last turn\n",
    "        # is played, but to help the AI, the current score will only become\n",
    "        # zero when all lives are lost.\n",
    "        self.current_score = 0\n",
    "        \n",
    "        # Cards that have been played onto the board\n",
    "        # -1 corresponds to no card of a particular suit having been played.\n",
    "        # The current value of self.board[i] = Highest value of card played\n",
    "        # of that suit.\n",
    "        self.board = [-1]*self.num_suits\n",
    "        \n",
    "        # Discard Pile\n",
    "        # self.discards[i][j] = The number of suit i value j cards that have been discarded so far.\n",
    "        self.discards = [[0]*num_values for i in range(self.num_suits)]\n",
    "        \n",
    "        # Keep a list of possible next moves\n",
    "        self.legal_move_list = []\n",
    "        # Initialize legal_move_list\n",
    "        self.legalMoves()\n",
    "        \n",
    "        # Keep track of the number of moves left when the final round starts\n",
    "        self.final_round_moves = self.num_players\n",
    "        self.game_is_ending = False\n",
    "        \n",
    "        # When the game ends, the game manager should deal with cleaning everything up.\n",
    "        self.game_end = False\n",
    "\n",
    "\n",
    "    def initialDeal(self):\n",
    "        random.shuffle(self.deck)\n",
    "        for i in range(self.hand_size):\n",
    "            for hand in range(self.num_players):\n",
    "                self.player_hands[hand].append(self.deck.pop())\n",
    "    \n",
    "    # Returns the board state from a given player's perspective.\n",
    "    # In particular, it returns all public information and the cards in the opponents hands.\n",
    "    # [[score]: 1, [lives remaining]: 1, [hints available]: 1, [# cards in deck]: 1,\n",
    "    # [Cards in play]: num_suits, [Discards]: num_suits*num_values, [Hints in Hand], [Other People's Hands Hints]]\n",
    "    def boardState(self, player_number):\n",
    "        return [self.current_score, self.lives, self.hints, len(self.deck), self.board, self.discards, \n",
    "                self.player_hints[player_number]] + [hint for i,hint in enumerate(self.player_hints) if i!= player_number]\n",
    "    \n",
    "    def printBoardState(self, player_number=-1):\n",
    "        \n",
    "        # If no player is specified, return the view from the current player\n",
    "        if player_number == -1:\n",
    "            player_number = self.current_player_turn\n",
    "#         cur_board = boardState(player_number)\n",
    "        print(f\"From the perspective of player {player_number}\")\n",
    "        print(f\"The current score is {self.current_score}.\")\n",
    "        print(f\"You have {self.lives} lives and {self.hints} hints left.\")\n",
    "        print(f\"There are {len(self.deck)} cards left in the deck.\")\n",
    "        for i, max_card in enumerate(self.board):\n",
    "            if max_card == -1:\n",
    "                print(f\"You have not played any cards of suit {i}\")\n",
    "            elif max_card == 0:\n",
    "                print(f\"You have played the 0 of suit {i}.\")\n",
    "            else:\n",
    "                print(f\"You have played {max_card} cards of suit {i}.\")\n",
    "        \n",
    "        for card_index, hint in enumerate(self.player_hints[player_number]):\n",
    "            if hint == [[0]*self.num_suits, [0]*self.num_values, 0]:\n",
    "                print(f\"You don't know anything about card {card_index}.\")\n",
    "            else:\n",
    "                if hint[0] == [0]*self.num_suits:\n",
    "                    print(f\"You don't know anything about the suit of card {card_index}.\")\n",
    "                else:\n",
    "                    if 1 in hint[0]:\n",
    "                        print(f\"You know that {card_index} is of suit {(hint[0]).index(1)}\")\n",
    "                    else:\n",
    "                        for suit_index, existence in enumerate(hint[0]):\n",
    "                            if existence == -1:\n",
    "                                print(f\"You know card {card_index} is not of suit {suit_index}.\")\n",
    "                \n",
    "                if hint[1] == [0]*self.num_values:\n",
    "                    print(f\"You don't know anything about the value of card {card_index}.\")\n",
    "                else:\n",
    "                    if 1 in hint[1]:\n",
    "                        print(f\"You know that {card_index} is of suit {(hint[0]).index(1)}\")\n",
    "                    else:\n",
    "                        for value_index, existence in enumerate(hint[1]):\n",
    "                            if existence == -1:\n",
    "                                print(f\"You know card {card_index} is not of value {value_index}.\")\n",
    "\n",
    "                            \n",
    "    # Returns a tuple (The index of the current player's turn, [List of allowable moves])    \n",
    "    def legalMoves(self):\n",
    "        \n",
    "        # Moves will be described by a tuple \n",
    "        # (Choose to Play/Discard/Hint, Index of Card to Discard/Play [-1 if giving hint instead], \n",
    "        #                              Hint Type[(player, suit, value)])\n",
    "        # Hint Type is (-1,-1,-1) if not giving a hint.\n",
    "        allowed_moves = []\n",
    "        \n",
    "        # Play moves (0,X,-1,-1)\n",
    "        for i in range(len(self.player_hands[self.current_player_turn])):\n",
    "            allowed_moves.append((0,i,-1,-1,-1))\n",
    "        \n",
    "        # Discard moves (1,X,-1,-1)\n",
    "        for i in range(len(self.player_hands[self.current_player_turn])):\n",
    "            allowed_moves.append((1,i,-1,-1,-1))\n",
    "        \n",
    "        \n",
    "        # If hint available, hint moves (2, -1, Player, Suit, Value)\n",
    "        if self.hints > 0:\n",
    "            for player_index in range(self.num_players):\n",
    "                if player_index != self.current_player_turn:\n",
    "                    for suit_index in range(self.num_suits):\n",
    "                        allowed_moves.append((2,-1,player_index,suit_index,-1))\n",
    "                    for value_index in range(self.num_values):\n",
    "                        allowed_moves.append((2,-1,player_index,-1,value_index))\n",
    "        \n",
    "        self.legal_move_list = allowed_moves\n",
    "        return (self.current_player_turn, allowed_moves)\n",
    "    \n",
    "    def printLegalMoves(self):\n",
    "        self.legalMoves()\n",
    "        print(f\"It is Player {self.current_player_turn}'s turn.\")\n",
    "        if len(self.legal_move_list) == 0:\n",
    "            print(\"You done goofed. No legal moves.\")\n",
    "            return\n",
    "        for index, move in enumerate(self.legal_move_list):\n",
    "            if move[0] == 0:\n",
    "                print(f\"{index}: You can play your {move[1]} card.\")\n",
    "            elif move[0] == 1:\n",
    "                print(f\"{index}: You can discard your {move[1]} card.\")\n",
    "            else:\n",
    "                if move[3] != -1:\n",
    "                    print(f\"{index}: You can tell player {move[2]} about their cards of suit {move[3]}.\")\n",
    "                elif move[4] != -1:\n",
    "                    print(f\"{index}: You can tell player {move[2]} about their cards of value {move[4]}.\")\n",
    "                else:\n",
    "                    print('We definitely should not have gotten here.')\n",
    "    \n",
    "    # Current Player Draws a card\n",
    "    def drawCard(self):\n",
    "        if len(self.deck) == 0:\n",
    "            self.game_is_ending = True\n",
    "            self.final_round_moves -= 1\n",
    "            if self.final_round_moves == 0:\n",
    "                self.endGame()\n",
    "\n",
    "        if len(self.player_hands[self.current_player_turn]) != 4:\n",
    "            print(f\"A player is trying to draw with {len(self.player_hands[self.current_player_turn])} cards in their hand.\")\n",
    "            return\n",
    "        else:\n",
    "            self.player_hands[self.current_player_turn].append(self.deck.pop())\n",
    "            self.player_hints[self.current_player_turn].append([[0]*self.num_suits,[0]*self.num_values])\n",
    "        \n",
    "        self.legalMoves()\n",
    "    \n",
    "    # Implement this\n",
    "    def endGame(self):\n",
    "        self.game_end = True\n",
    "        return\n",
    "    \n",
    "    def playCard(self, index):\n",
    "        if index > len(self.player_hands[self.current_player_turn]):\n",
    "            print(\"That card is unplayable. Uh oh.\")\n",
    "            return\n",
    "        \n",
    "        card = self.player_hands[self.current_player_turn][index]\n",
    "        suit = card[0]\n",
    "        value = card[1]\n",
    "        \n",
    "        \n",
    "        # If the card is playable, play it, increment score, and draw a card.\n",
    "        # Otherwise, we'll lose a life, check game end, discard it, and draw a card.\n",
    "        if self.board[suit] + 1 == value:\n",
    "            self.board[suit] = value\n",
    "            self.current_score += 1\n",
    "        else:\n",
    "            self.lives -= 1\n",
    "            if self.lives <= 0:\n",
    "                endGame()\n",
    "                return\n",
    "        self.discardCard(index, gain_hint = False)\n",
    "        self.drawCard()\n",
    "\n",
    "    # Only draw a card if gain_hint = True\n",
    "    # Update discard pile\n",
    "    def discardCard(self, index, gain_hint = True):\n",
    "        self.discards[self.player_hands[self.current_player_turn][index][0]][\n",
    "                            self.player_hands[self.current_player_turn][index][1]]+= 1\n",
    "        del self.player_hands[self.current_player_turn][index]\n",
    "        del self.player_hints[self.current_player_turn][index]\n",
    "        if gain_hint == True:\n",
    "            self.drawCard()\n",
    "            if self.hints < self.max_hints:\n",
    "                self.hints += 1\n",
    "        return\n",
    "\n",
    "    # If a hint is given whilst game is ending, remember to decrement final_round_moves\n",
    "    # self.player_hints = [[[[0]*self.num_suits,[0]*self.num_values] for j in range(self.hand_size)]\n",
    "    #                        for i in range(self.num_players)]\n",
    "    def giveHint(self, hint):\n",
    "        player, suit_hint, value_hint = hint[0], hint[1], hint[2]\n",
    "        \n",
    "        if self.hints <= 0:\n",
    "            print(\"You cannot give a hint, as you have no hint tokens left!\")\n",
    "        \n",
    "        # card_hints is of the form [[suit hints], [value hints]]\n",
    "        for card_index, card_hints in enumerate(self.player_hints[player]):\n",
    "            card_suit = self.player_hands[player][card_index][0]\n",
    "            card_value = self.player_hands[player][card_index][1]\n",
    "            if (suit_hint != -1):\n",
    "                if suit_hint == card_suit:\n",
    "                    card_hints[0] = [1 if x == card_suit else -1 for x in range(self.num_suits) ]\n",
    "                else:\n",
    "                    card_hints[0][suit_hint] = -1\n",
    "            elif (value_hint != 1):\n",
    "                if value_hint == card_value:\n",
    "                    card_hints[1] = [1 if x == card_value else -1 for x in range(self.num_values) ]\n",
    "                else:\n",
    "                    card_hints[1][suit_hint] = -1\n",
    "            else:\n",
    "                print(\"We were given neither a suit nor a value.\")\n",
    "                return\n",
    "        self.hints -= 1\n",
    "        return\n",
    "\n",
    "    \n",
    "    def performMove(self, index = -1, move = None):\n",
    "        if index == -1 and move == None:\n",
    "            print(\"What move would you like to do?\")\n",
    "            return\n",
    "        if index > len(self.legal_move_list):\n",
    "            print(\"Choose a valid move. [Index out of range.]\")\n",
    "            return\n",
    "        if move != None and move not in legal_move_list:\n",
    "            print(\"Choose a valid move. [Move not legal.]\")\n",
    "            return\n",
    "\n",
    "        if index != -1:\n",
    "            move = self.legal_move_list[index]\n",
    "#         else:\n",
    "#             index = legal_move_list.index(move)\n",
    "        \n",
    "        # Reminder: move = (play/discard/hint, card to play/discard index, player to give hint, suit hint, value hint)\n",
    "        # Reminder: move[0]: 0 - Play, 1 - Discard, 2 - Hint\n",
    "        if move[0] == 0:\n",
    "            self.playCard(move[1])\n",
    "        elif move[0] == 1:\n",
    "            self.discardCard(move[1])\n",
    "        elif move[0] == 2:\n",
    "            self.giveHint((move[2], move[3], move[4]))\n",
    "        \n",
    "        # Next player's turn\n",
    "        self.legalMoves()\n",
    "        for card in self.player_hints[self.current_player_turn]:\n",
    "            card[2] += 1\n",
    "        self.current_player_turn = (self.current_player_turn + 1) % self.num_players\n",
    "        "
   ]
  },
  {
   "cell_type": "code",
   "execution_count": 69,
   "metadata": {},
   "outputs": [],
   "source": [
    "test_game = HanabiGame()"
   ]
  },
  {
   "cell_type": "code",
   "execution_count": 70,
   "metadata": {},
   "outputs": [
    {
     "name": "stdout",
     "output_type": "stream",
     "text": [
      "From the perspective of player 0\n",
      "The current score is 0.\n",
      "You have 3 lives and 8 hints left.\n",
      "There are 40 cards left in the deck.\n",
      "You have not played any cards of suit 0\n",
      "You have not played any cards of suit 1\n",
      "You have not played any cards of suit 2\n",
      "You have not played any cards of suit 3\n",
      "You have not played any cards of suit 4\n",
      "You don't know anything about card 0.\n",
      "You don't know anything about card 1.\n",
      "You don't know anything about card 2.\n",
      "You don't know anything about card 3.\n",
      "You don't know anything about card 4.\n"
     ]
    }
   ],
   "source": [
    "test_game.printBoardState()"
   ]
  },
  {
   "cell_type": "code",
   "execution_count": 71,
   "metadata": {},
   "outputs": [
    {
     "name": "stdout",
     "output_type": "stream",
     "text": [
      "It is Player 0's turn.\n",
      "0: You can play your 0 card.\n",
      "1: You can play your 1 card.\n",
      "2: You can play your 2 card.\n",
      "3: You can play your 3 card.\n",
      "4: You can play your 4 card.\n",
      "5: You can discard your 0 card.\n",
      "6: You can discard your 1 card.\n",
      "7: You can discard your 2 card.\n",
      "8: You can discard your 3 card.\n",
      "9: You can discard your 4 card.\n",
      "10: You can tell player 1 about their cards of suit 0.\n",
      "11: You can tell player 1 about their cards of suit 1.\n",
      "12: You can tell player 1 about their cards of suit 2.\n",
      "13: You can tell player 1 about their cards of suit 3.\n",
      "14: You can tell player 1 about their cards of suit 4.\n",
      "15: You can tell player 1 about their cards of value 0.\n",
      "16: You can tell player 1 about their cards of value 1.\n",
      "17: You can tell player 1 about their cards of value 2.\n",
      "18: You can tell player 1 about their cards of value 3.\n",
      "19: You can tell player 1 about their cards of value 4.\n"
     ]
    }
   ],
   "source": [
    "test_game.printLegalMoves()"
   ]
  },
  {
   "cell_type": "code",
   "execution_count": 72,
   "metadata": {},
   "outputs": [],
   "source": [
    "test_game.performMove(index = 10)"
   ]
  },
  {
   "cell_type": "code",
   "execution_count": 73,
   "metadata": {},
   "outputs": [
    {
     "name": "stdout",
     "output_type": "stream",
     "text": [
      "It is Player 1's turn.\n",
      "0: You can play your 0 card.\n",
      "1: You can play your 1 card.\n",
      "2: You can play your 2 card.\n",
      "3: You can play your 3 card.\n",
      "4: You can play your 4 card.\n",
      "5: You can discard your 0 card.\n",
      "6: You can discard your 1 card.\n",
      "7: You can discard your 2 card.\n",
      "8: You can discard your 3 card.\n",
      "9: You can discard your 4 card.\n",
      "10: You can tell player 0 about their cards of suit 0.\n",
      "11: You can tell player 0 about their cards of suit 1.\n",
      "12: You can tell player 0 about their cards of suit 2.\n",
      "13: You can tell player 0 about their cards of suit 3.\n",
      "14: You can tell player 0 about their cards of suit 4.\n",
      "15: You can tell player 0 about their cards of value 0.\n",
      "16: You can tell player 0 about their cards of value 1.\n",
      "17: You can tell player 0 about their cards of value 2.\n",
      "18: You can tell player 0 about their cards of value 3.\n",
      "19: You can tell player 0 about their cards of value 4.\n"
     ]
    }
   ],
   "source": [
    "test_game.printLegalMoves()"
   ]
  },
  {
   "cell_type": "code",
   "execution_count": 74,
   "metadata": {
    "scrolled": true
   },
   "outputs": [
    {
     "name": "stdout",
     "output_type": "stream",
     "text": [
      "From the perspective of player 1\n",
      "The current score is 0.\n",
      "You have 3 lives and 7 hints left.\n",
      "There are 40 cards left in the deck.\n",
      "You have not played any cards of suit 0\n",
      "You have not played any cards of suit 1\n",
      "You have not played any cards of suit 2\n",
      "You have not played any cards of suit 3\n",
      "You have not played any cards of suit 4\n",
      "You know card 0 is not of suit 0.\n",
      "You don't know anything about the value of card 0.\n",
      "You know card 1 is not of suit 0.\n",
      "You don't know anything about the value of card 1.\n",
      "You know that 2 is of suit 0\n",
      "You don't know anything about the value of card 2.\n",
      "You know that 3 is of suit 0\n",
      "You don't know anything about the value of card 3.\n",
      "You know card 4 is not of suit 0.\n",
      "You don't know anything about the value of card 4.\n"
     ]
    }
   ],
   "source": [
    "test_game.printBoardState()"
   ]
  },
  {
   "cell_type": "code",
   "execution_count": 75,
   "metadata": {},
   "outputs": [
    {
     "data": {
      "text/plain": [
       "[[0, 0, 0, 0, 0],\n",
       " [0, 0, 0, 0, 0],\n",
       " [0, 0, 0, 0, 0],\n",
       " [0, 0, 0, 0, 0],\n",
       " [0, 0, 0, 0, 0]]"
      ]
     },
     "execution_count": 75,
     "metadata": {},
     "output_type": "execute_result"
    }
   ],
   "source": [
    "test_game.discards"
   ]
  },
  {
   "cell_type": "code",
   "execution_count": null,
   "metadata": {},
   "outputs": [],
   "source": []
  },
  {
   "cell_type": "code",
   "execution_count": null,
   "metadata": {},
   "outputs": [],
   "source": [
    "# Implementation of Game Manager that will run games for the player AI and provide training"
   ]
  },
  {
   "cell_type": "code",
   "execution_count": 108,
   "metadata": {},
   "outputs": [],
   "source": []
  },
  {
   "cell_type": "code",
   "execution_count": 159,
   "metadata": {},
   "outputs": [
    {
     "name": "stdout",
     "output_type": "stream",
     "text": [
      "149\n"
     ]
    }
   ],
   "source": [
    "def flatten(list_to_flatten):\n",
    "        found_something_to_flatten = True\n",
    "        while(found_something_to_flatten == True):\n",
    "            found_something_to_flatten = False\n",
    "            temp_list = []\n",
    "            for i, item in enumerate(list_to_flatten):\n",
    "                if isinstance(item, list):\n",
    "                    found_something_to_flatten = True\n",
    "                    temp_list += list_to_flatten[i]\n",
    "                else:\n",
    "                    temp_list.append(list_to_flatten[i])\n",
    "            list_to_flatten = temp_list\n",
    "        return list_to_flatten\n",
    "\n",
    "\n",
    "test_game = HanabiGame()\n",
    "\n",
    "flat_state = flatten(test_game.boardState(0)+[0]*5)\n",
    "input_size = len(flat_state) # This equals 149 in 2 player normal game\n",
    "\n",
    "\n",
    "# Genetic Algorithm to find a good HanabiAI\n",
    "# Initialize with 2*N players (Initial Population)\n",
    "\n",
    "population = 2*5\n",
    "current_generation_weights = []\n",
    "\n",
    "for i in range(population):\n",
    "    cur_weights = []\n",
    "    cur_weights.append([random.random() for i in range(input_size)])\n",
    "    current_generation_weights.append(cur_weights)\n",
    "\n",
    "\n",
    "# Evalute the fitness of each player (which we'll consider to be the maximum score obtained before game ends.)\n",
    "\n",
    "# Generate a new generation by randomly choosing two* parents biased upon fitness\n",
    "# Create a child with new weights based upon the cross-over of parents\n",
    "# Mutate with some small chance\n",
    "# Repeat\n",
    "\n",
    "\n",
    "\n",
    "\n",
    "\n",
    "\n",
    "# model_num and player number are not actually the same... BE CAREFUL!\n",
    "neural_input_player_0 = np.asarray(flat_state)\n",
    "neural_input_len = len(neural_input_player_0)\n",
    "neural_input = np.atleast_2d(neural_input)\n",
    "\n",
    "test_player_0 = HanabiPlayer(neural_input_len)\n",
    "test_player_1 = HanabiPlayer(neural_input_len)\n",
    "\n",
    "current_pool = [test_player_0, test_player_1]\n",
    "\n",
    "model_num = 0\n",
    "\n",
    "\n",
    "output_prob = current_pool[model_num].choose_best_move(test_game.legal_move_list, flat_state)"
   ]
  },
  {
   "cell_type": "code",
   "execution_count": null,
   "metadata": {},
   "outputs": [],
   "source": []
  },
  {
   "cell_type": "code",
   "execution_count": null,
   "metadata": {},
   "outputs": [],
   "source": [
    "# Implementation of Player AI"
   ]
  },
  {
   "cell_type": "code",
   "execution_count": 149,
   "metadata": {},
   "outputs": [
    {
     "name": "stdout",
     "output_type": "stream",
     "text": [
      "149\n",
      "Model: \"sequential_58\"\n",
      "_________________________________________________________________\n",
      "Layer (type)                 Output Shape              Param #   \n",
      "=================================================================\n",
      "dense_232 (Dense)            (None, 149)               298       \n",
      "_________________________________________________________________\n",
      "dense_233 (Dense)            (None, 64)                9600      \n",
      "_________________________________________________________________\n",
      "dense_234 (Dense)            (None, 16)                1040      \n",
      "_________________________________________________________________\n",
      "dense_235 (Dense)            (None, 1)                 17        \n",
      "=================================================================\n",
      "Total params: 10,955\n",
      "Trainable params: 10,955\n",
      "Non-trainable params: 0\n",
      "_________________________________________________________________\n"
     ]
    }
   ],
   "source": [
    "import numpy as np\n",
    "import random\n",
    "import statistics\n",
    "import tensorflow as tf\n",
    "from tensorflow import keras\n",
    "from tensorflow.keras.models import Sequential\n",
    "from tensorflow.keras.layers import Activation, Dense\n",
    "\n",
    "from tensorflow.keras.optimizers import Adam\n",
    "from tensorflow.keras.metrics import categorical_crossentropy\n",
    "\n",
    "class HanabiPlayer:\n",
    "    \n",
    "#     def flatten(self, list_to_flatten):\n",
    "#         found_something_to_flatten = True\n",
    "#         while(found_something_to_flatten == True):\n",
    "#             found_something_to_flatten = False\n",
    "#             temp_list = []\n",
    "#             for i, item in enumerate(list_to_flatten):\n",
    "#                 if isinstance(item, list):\n",
    "#                     found_something_to_flatten = True\n",
    "#                     temp_list += list_to_flatten[i]\n",
    "#                 else:\n",
    "#                     temp_list.append(list_to_flatten[i])\n",
    "#             list_to_flatten = temp_list\n",
    "#         return list_to_flatten\n",
    "    \n",
    "    # Game state will be ordered as\n",
    "    # [[score]: 1, [lives remaining]: 1, [hints available]: 1, [# cards in deck]: 1,\n",
    "    # [Cards in play]: num_suits, [Discards]: num_suits*num_values, [Hints in Hand], [Other People's Hands Hints]]\n",
    "    def __init__(self, game_state_size, move_size = 5, weights = None):\n",
    "        if weights == None:\n",
    "            self.weights = [0]*(game_state_size+move_size)*64\n",
    "        \n",
    "        # convert the game state into a single array of values\n",
    "        # Maybe the player doesn't need to hold onto the game state all the time?\n",
    "        # Gonna keep track of it with the game manager... this is just here to see the input size it'll need\n",
    "#         self.game_state = np.asarray(self.flatten(game_state))\n",
    "        self.model = Sequential([\n",
    "            Dense(units=game_state_size, input_shape=(1,), activation='relu'),\n",
    "            Dense(units=64, activation='relu'),\n",
    "            Dense(units=16, activation='relu'),\n",
    "            Dense(units=1, activation='sigmoid')\n",
    "        ])\n",
    "    \n",
    "        # Since we will be updating the weights ourselves, this isn't necessary...\n",
    "        self.model.compile(optimizer=Adam(learning_rate=0.0001), loss='sparse_categorical_crossentropy',metrics=['accuracy'])\n",
    "        \n",
    "        \n",
    "        \n",
    "#     def expected_card_probabilities(self, card):\n",
    "#         return\n",
    "    \n",
    "    def choose_best_move(self, move_list, game_state):\n",
    "        \n",
    "        neural_input = np.asarray([])\n",
    "        return\n",
    "    \n",
    "    def update_game(self, game_state):\n",
    "        self.game_state = game_state\n",
    "        return\n",
    "    \n",
    "    # Genetic Algorithm Stuff\n",
    "    def dna_crossover(self, partners):\n",
    "        partners.append(self.weights)\n",
    "        average_weights = []\n",
    "        for i in range(len(self.weights)):\n",
    "            average_weights.append(statistics.mean([player_weight[i] for player_weight in partners]))\n",
    "        return self.mutate(average_weights)\n",
    "    \n",
    "    def mutate(self, dna_weights):\n",
    "        mutation_rate = 0.01\n",
    "        new_weights = []\n",
    "        \n",
    "        for weight in dna_weights:\n",
    "            if random.random() < mutation_rate:\n",
    "                new_weights.append(random.random())\n",
    "            else:\n",
    "                new_weights.append(weight)\n",
    "        \n",
    "        return new_weights\n",
    "\n",
    "test_game = HanabiGame()\n",
    "input_size = len(flatten(test_game.boardState(0)))+len(test_game.legal_move_list[0])\n",
    "print(input_size)\n",
    "test_player = HanabiPlayer(game_state_size = input_size)\n",
    "# len(board_state) = 4 + num_suits + num_suits*num_values + hand_size*(num_suits+num_values+1)*num_players + len(move)\n",
    "# In 2 player, 5 cards, 5 suits, 5 values, you should get 144\n",
    "weights = test_player.model.get_weights()\n",
    "test_player.model.summary()\n",
    "model_to_save = test_player.model.to_json()\n",
    "with open(\"model.json\", \"w\") as json_file:\n",
    "    json_file.write(model_to_save)"
   ]
  },
  {
   "cell_type": "code",
   "execution_count": null,
   "metadata": {},
   "outputs": [],
   "source": []
  },
  {
   "cell_type": "code",
   "execution_count": null,
   "metadata": {},
   "outputs": [],
   "source": [
    "[i for i in range(10) if i!=2]"
   ]
  },
  {
   "cell_type": "code",
   "execution_count": null,
   "metadata": {},
   "outputs": [],
   "source": [
    "print(f\"Is{' not' if True else ''}!\")"
   ]
  },
  {
   "cell_type": "code",
   "execution_count": null,
   "metadata": {},
   "outputs": [],
   "source": [
    "A = [[1,2],[3,4]]\n",
    "for a in A:\n",
    "    a[0] = 0\n",
    "A"
   ]
  },
  {
   "cell_type": "code",
   "execution_count": 22,
   "metadata": {},
   "outputs": [],
   "source": [
    "A = [0,0,1]\n",
    "B = ['a' if x == 0 else 'b' for x in A ]"
   ]
  },
  {
   "cell_type": "code",
   "execution_count": 23,
   "metadata": {},
   "outputs": [
    {
     "data": {
      "text/plain": [
       "['a', 'a', 'b']"
      ]
     },
     "execution_count": 23,
     "metadata": {},
     "output_type": "execute_result"
    }
   ],
   "source": [
    "B"
   ]
  },
  {
   "cell_type": "code",
   "execution_count": 158,
   "metadata": {},
   "outputs": [
    {
     "data": {
      "text/plain": [
       "0.42255412843089846"
      ]
     },
     "execution_count": 158,
     "metadata": {},
     "output_type": "execute_result"
    }
   ],
   "source": [
    "random.random()"
   ]
  },
  {
   "cell_type": "code",
   "execution_count": 81,
   "metadata": {},
   "outputs": [],
   "source": []
  },
  {
   "cell_type": "code",
   "execution_count": 82,
   "metadata": {},
   "outputs": [
    {
     "data": {
      "text/plain": [
       "[1, 2, 3, 4, 5, 6, 7, 8]"
      ]
     },
     "execution_count": 82,
     "metadata": {},
     "output_type": "execute_result"
    }
   ],
   "source": [
    "flatten([[[1,2],[3,4]],[[5,6],[7,8]]])"
   ]
  },
  {
   "cell_type": "code",
   "execution_count": 80,
   "metadata": {},
   "outputs": [
    {
     "data": {
      "text/plain": [
       "[1, 2, 1, 2, 3]"
      ]
     },
     "execution_count": 80,
     "metadata": {},
     "output_type": "execute_result"
    }
   ],
   "source": [
    "[1,2] + [1,2,3]"
   ]
  },
  {
   "cell_type": "code",
   "execution_count": 157,
   "metadata": {},
   "outputs": [
    {
     "name": "stdout",
     "output_type": "stream",
     "text": [
      "[1, [[1, 2], [3, 4], [5, 6]]]\n"
     ]
    }
   ],
   "source": [
    "A = [1]\n",
    "A.append([[1,2],[3,4],[5,6]])\n",
    "print(A)"
   ]
  },
  {
   "cell_type": "code",
   "execution_count": null,
   "metadata": {},
   "outputs": [],
   "source": []
  }
 ],
 "metadata": {
  "kernelspec": {
   "display_name": "Python 3",
   "language": "python",
   "name": "python3"
  },
  "language_info": {
   "codemirror_mode": {
    "name": "ipython",
    "version": 3
   },
   "file_extension": ".py",
   "mimetype": "text/x-python",
   "name": "python",
   "nbconvert_exporter": "python",
   "pygments_lexer": "ipython3",
   "version": "3.6.12"
  }
 },
 "nbformat": 4,
 "nbformat_minor": 4
}
