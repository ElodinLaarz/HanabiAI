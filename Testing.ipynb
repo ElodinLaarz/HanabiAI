{
 "cells": [
  {
   "cell_type": "code",
   "execution_count": 72,
   "metadata": {},
   "outputs": [],
   "source": [
    "import itertools\n",
    "import random\n",
    "\n",
    "# Suits of Cards\n",
    "num_suits = 5\n",
    "suits = [10*i for i in list(range(1, num_suits+1))]\n",
    "\n",
    "# Values of Cards\n",
    "# There are 3 ones of each suit, one of the maximal value, and two of all others.\n",
    "num_values = 3\n",
    "values = [1, 1, 1] + list(range(2, num_values))*2 + [num_values] \n",
    "\n",
    "# Deck\n",
    "# A card in the deck's ten's place is the suit of the card and \n",
    "# the one's place is the value\n",
    "deck = [value + suit for value, suit in itertools.product(values,suits)]\n",
    "\n",
    "# Hand Size\n",
    "hand_size = 5\n",
    "\n",
    "# Number of players\n",
    "num_players = 2\n",
    "\n",
    "# Cards in the Hands of each Player\n",
    "player_hands = [[] for i in range(num_players)]\n",
    "\n",
    "\n",
    "def initialDeal():\n",
    "    random.shuffle(deck)\n",
    "    for i in range(hand_size):\n",
    "        for hand in range(num_players):\n",
    "            player_hands[hand].append(deck.pop())\n",
    "#             print(player_hands)\n",
    "            "
   ]
  },
  {
   "cell_type": "code",
   "execution_count": 73,
   "metadata": {},
   "outputs": [
    {
     "name": "stdout",
     "output_type": "stream",
     "text": [
      "[1, 2, 3]\n"
     ]
    }
   ],
   "source": [
    "print(numbers)"
   ]
  },
  {
   "cell_type": "code",
   "execution_count": 74,
   "metadata": {},
   "outputs": [
    {
     "name": "stdout",
     "output_type": "stream",
     "text": [
      "[11, 21, 31, 41, 51, 11, 21, 31, 41, 51, 11, 21, 31, 41, 51, 12, 22, 32, 42, 52, 12, 22, 32, 42, 52, 13, 23, 33, 43, 53]\n"
     ]
    }
   ],
   "source": [
    "print(deck)"
   ]
  },
  {
   "cell_type": "code",
   "execution_count": 75,
   "metadata": {},
   "outputs": [
    {
     "name": "stdout",
     "output_type": "stream",
     "text": [
      "[[], []]\n"
     ]
    }
   ],
   "source": [
    "print(player_hands)"
   ]
  },
  {
   "cell_type": "code",
   "execution_count": 76,
   "metadata": {},
   "outputs": [],
   "source": [
    "initialDeal()"
   ]
  },
  {
   "cell_type": "code",
   "execution_count": 77,
   "metadata": {},
   "outputs": [
    {
     "name": "stdout",
     "output_type": "stream",
     "text": [
      "[[11, 21, 12, 31, 32], [22, 42, 23, 32, 12]]\n"
     ]
    }
   ],
   "source": [
    "print(player_hands)"
   ]
  },
  {
   "cell_type": "code",
   "execution_count": 49,
   "metadata": {},
   "outputs": [],
   "source": [
    "# What things can you do on your turn in Hanabi?\n",
    "# 1. Play a card from your hand. -- Choose to play, choose a card.\n",
    "# 2. Discard a card from your hand. -- Choose to discard, choose a card.\n",
    "# 3. Give a hint to the other player about cards in their hand. -- Choose to give hint, choose a hint.\n",
    "\n",
    "# What information do you have at any point in the Hanabi Game?\n",
    "# 1. Hints given for each of your cards.\n",
    "# 2. Number of remaining hints.\n",
    "# 3. Number of cards left in the deck.\n",
    "# 4. Number of lives left.\n",
    "# 5. Hints given to other players already.\n",
    "# 6. Cards in play.\n",
    "# 7. Score.\n",
    "\n",
    "# Maybe we can describe the state by [[score], [lives remaining], [hints available], [# cards in deck],\n",
    "#                                     [Cards in play], [Hints in Hand], [Other People's Hands Hints]]"
   ]
  },
  {
   "cell_type": "code",
   "execution_count": 78,
   "metadata": {},
   "outputs": [],
   "source": [
    "# We will have a game manager script that takes in a list of players and sends them the game state when it is their turn.\n",
    "# We then instantiate a couple of players and have them play games trying to achieve the highest score."
   ]
  },
  {
   "cell_type": "code",
   "execution_count": null,
   "metadata": {},
   "outputs": [],
   "source": [
    "def gameManager():\n",
    "    "
   ]
  }
 ],
 "metadata": {
  "kernelspec": {
   "display_name": "Python 3",
   "language": "python",
   "name": "python3"
  },
  "language_info": {
   "codemirror_mode": {
    "name": "ipython",
    "version": 3
   },
   "file_extension": ".py",
   "mimetype": "text/x-python",
   "name": "python",
   "nbconvert_exporter": "python",
   "pygments_lexer": "ipython3",
   "version": "3.8.5"
  }
 },
 "nbformat": 4,
 "nbformat_minor": 4
}
